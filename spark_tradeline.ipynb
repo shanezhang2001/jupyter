{
 "cells": [
  {
   "cell_type": "code",
   "execution_count": null,
   "id": "028314ca",
   "metadata": {},
   "outputs": [],
   "source": [
    "from pyspark.sql import *\n",
    "from pyspark.sql.functions import *\n",
    "import pandas as pd\n",
    "import numpy\n",
    "pd.set_option('display.max_rows', 5000)\n",
    "from matplotlib.pyplot import figure\n",
    "%matplotlib inline\n",
    "spark.sql('use db_crs_analysis_pii_t')\n",
    "#Shane Zhang, Jun, 2021\n",
    "#UDF for sequence analysis, find missing count, nonmissing count, max gap, max continous, last continous, last_pmt\n",
    "#miss_nb number of month that is None\n",
    "#miss_nb2 similar to miss_nb, but ignore leading missing months\n",
    "#nonmiss_nb number of months with a non null value\n",
    "#max_gap maximum number of continous month with null value\n",
    "#max_gap2 similar to max_gap, but ignore leading missing months\n",
    "#max_cont maximum number of continous months with non null value\n",
    "#last_cont from the last month counting reversely, number of continous months with non null value\n",
    "#last_pmt last non null value in the sequence\n",
    "seq=[None, None, None, 3, 4, 5, None, None, 8, 9, None, 11, 12, None, 21]\n",
    "from typing import List\n",
    "def seq_analysis (seq)-> List[float]:\n",
    "    max_gap=0.0\n",
    "    max_gap2=0.0\n",
    "    gap=0.0 #temp variable.\n",
    "    max_cont=0.0\n",
    "    cont=0\n",
    "    #temp variable\n",
    "    last_cont=0.0\n",
    "    miss_nb=0.0\n",
    "    miss_nb2=0.0\n",
    "    nonmiss_nb=0.0\n",
    "    \n",
    "    first_nonmiss=False\n",
    "    \n",
    "    for x in seq:\n",
    "        if x==None:\n",
    "            miss_nb=miss_nb+1\n",
    "            if first_nonmiss==True:\n",
    "                miss_nb2=miss_nb2+1\n",
    "            cont=0\n",
    "            last_cont=0.0\n",
    "            gap=gap+1\n",
    "            if gap>max_gap:\n",
    "                max_gap-gap\n",
    "                \n",
    "            if gap>max_gap2:\n",
    "                max_gap2=gap\n",
    "        else:    \n",
    "            if first_nonmiss==False:\n",
    "                first_nonmiss=True\n",
    "                max_gap2=0.0\n",
    "            nonmiss_nb=nonmiss_nb+1\n",
    "            last_pmt=x\n",
    "            gap=0.0\n",
    "            cont=cont+1\n",
    "            last_cont=last_cont+1\n",
    "            if cont>max_cont:\n",
    "                max_cont=max_cont+1\n",
    "    return miss_nb, miss_nb2, nonmiss_nb, max_gap, max_gap2, max_cont, last_cont, last_pmt\n",
    "\n"
   ]
  },
  {
   "cell_type": "code",
   "execution_count": null,
   "id": "ee8e68d3",
   "metadata": {},
   "outputs": [],
   "source": [
    "print(seq_analysis (seq))\n"
   ]
  },
  {
   "cell_type": "code",
   "execution_count": null,
   "id": "1ca14f43",
   "metadata": {},
   "outputs": [],
   "source": [
    "#create a spark dataframe to test\n",
    "from pyspark.sql.types import *\n",
    "data = [(\"01234567\", [None, 2.0, None, None, 5.0, None, 7.0, 8.0,9.0, None, 11.0,12.0])]\n",
    "schema StructType([\n",
    "StructField('eci', StringType(), True),\n",
    "StructField('sequence', ArrayType (DoubleType(), True), True)\n",
    "])\n",
    "df = spark.createDataFrame (data-data, schema=schema)\n",
    "df.printSchema ()\n",
    "df.show(truncate=False)\n",
    "\n",
    "\n"
   ]
  },
  {
   "cell_type": "code",
   "execution_count": null,
   "id": "cf1c43af",
   "metadata": {},
   "outputs": [],
   "source": [
    "#call sequence udf from spark dataframe\n",
    "from pyspark.sql.functions import udf, expr\n",
    "seq_udf = udf(seq_analysis, ArrayType(DoubleType()))\n",
    "df2=df.select(\"*\", seq_udf(\"sequence\").alias(\"seq\"))\n",
    "df2=df2.selectExpr(\"*\",\"seq[0] as max_gap\", \"seq[1] as max_cont\", \"seq[2] as last_cont\",\"seq[3] as last_pmt\")\n",
    "df2.toPandas()"
   ]
  }
 ],
 "metadata": {
  "kernelspec": {
   "display_name": "Python 3",
   "language": "python",
   "name": "python3"
  },
  "language_info": {
   "codemirror_mode": {
    "name": "ipython",
    "version": 3
   },
   "file_extension": ".py",
   "mimetype": "text/x-python",
   "name": "python",
   "nbconvert_exporter": "python",
   "pygments_lexer": "ipython3",
   "version": "3.8.8"
  }
 },
 "nbformat": 4,
 "nbformat_minor": 5
}
